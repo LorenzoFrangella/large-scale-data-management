{
 "cells": [
  {
   "cell_type": "code",
   "execution_count": 1,
   "metadata": {},
   "outputs": [],
   "source": [
    "import pandas as pd\n",
    "import numpy as np"
   ]
  },
  {
   "cell_type": "code",
   "execution_count": 19,
   "metadata": {},
   "outputs": [],
   "source": [
    "file = './information integration/dataset 3/matches_w_player_stats.csv'\n",
    "dataframe = pd.read_csv(file)\n",
    "first_row = dataframe.iloc[0].to_list()\n",
    "\n",
    "dataframe.to_csv('./information integration/dataset 3/matches_w_player_stats.csv', index=False, header=first_row)"
   ]
  },
  {
   "cell_type": "code",
   "execution_count": 13,
   "metadata": {},
   "outputs": [
    {
     "name": "stdout",
     "output_type": "stream",
     "text": [
      "        0    1    2     3    4    5    6    7    8    9    ...  524  525  526  \\\n",
      "0  21100065  LAC  POR   Win  240   93   21   23   25   24  ...  0.0  0.0  0.0   \n",
      "1  21100061  MIN  DAL   Win  240   99   25   25   24   25  ...  0.0  0.0  1.0   \n",
      "2  21100057  WAS  BOS  Loss  240   86   17   17   26   26  ...  0.0  0.0  0.0   \n",
      "3  21100060  CLE  NJN   Win  240   98   24   19   30   25  ...  0.0  0.0  0.0   \n",
      "4  21100059  MIA  CHA   Win  240  129   33   32   27   37  ...  2.0  0.0  2.0   \n",
      "\n",
      "   527   528   529       530    531    532       533  \n",
      "0  0.0   0.0   0.0   97.4576  201.0  346.0   97.4576  \n",
      "1  1.0   0.0 -10.0   91.2237  200.0  283.0   91.2237  \n",
      "2  1.0   0.0  -5.0   89.7535  189.0  265.0   89.7535  \n",
      "3  0.0   0.0   2.0   89.8118  192.0  284.0   89.8118  \n",
      "4  0.0  14.0 -21.0  102.3647  191.0    4.0  102.3647  \n",
      "\n",
      "[5 rows x 534 columns]\n"
     ]
    }
   ],
   "source": []
  }
 ],
 "metadata": {
  "kernelspec": {
   "display_name": "Python 3",
   "language": "python",
   "name": "python3"
  },
  "language_info": {
   "codemirror_mode": {
    "name": "ipython",
    "version": 3
   },
   "file_extension": ".py",
   "mimetype": "text/x-python",
   "name": "python",
   "nbconvert_exporter": "python",
   "pygments_lexer": "ipython3",
   "version": "3.12.6"
  }
 },
 "nbformat": 4,
 "nbformat_minor": 2
}
